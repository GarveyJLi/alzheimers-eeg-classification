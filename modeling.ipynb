{
 "cells": [
  {
   "cell_type": "code",
   "execution_count": 29,
   "metadata": {},
   "outputs": [],
   "source": [
    "import numpy as np \n",
    "import pandas as pd \n",
    "from sklearn import svm\n",
    "from sklearn.model_selection import train_test_split\n",
    "from sklearn.metrics import precision_recall_fscore_support, confusion_matrix\n",
    "from sklearn.decomposition import PCA\n",
    "from sklearn.svm import SVC\n",
    "from sklearn.preprocessing import StandardScaler\n",
    "from sklearn.pipeline import make_pipeline\n",
    "\n",
    "import os\n",
    "import matplotlib.pylab as plt \n",
    "import seaborn as sns"
   ]
  },
  {
   "cell_type": "markdown",
   "metadata": {},
   "source": [
    "Data Preprocessing"
   ]
  },
  {
   "cell_type": "code",
   "execution_count": null,
   "metadata": {},
   "outputs": [],
   "source": [
    "def adjust_df(df, label = 0):\n",
    "    \"\"\"\n",
    "    Helper function that readjusts fourier transform data into a format that \n",
    "    sklearn can use to fit/train models\n",
    "\n",
    "    Parameters: df , label (0 if control, 1 if alzhiemers)\n",
    "    Output: df_restructured\n",
    "    \"\"\"\n",
    "    df_melted = pd.melt(df, id_vars=['freq'], var_name='subject_freq', value_name='power')\n",
    "\n",
    "    # Extract the subject and frequency type (e.g., Fp1, Fp2, F3) from the 'subject_freq' column\n",
    "    df_melted[['subject', 'freq_type']] = df_melted['subject_freq'].str.extract(r'(sub-[^-\\s]+)-([A-Za-z0-9]+)')\n",
    "\n",
    "    # Create a new column that combines frequency type and frequency value in the desired format\n",
    "    df_melted['freq_column'] = df_melted['freq_type'] + '@freq=' + df_melted['freq'].astype(str)\n",
    "\n",
    "    # Pivot the dataframe so that each subject has its own row, and each frequency type at each frequency value becomes a column\n",
    "    df_pivoted = df_melted.pivot_table(index='subject', columns='freq_column', values='power', aggfunc='first')\n",
    "\n",
    "    # Flatten the multi-level columns to make them more readable\n",
    "    df_pivoted.columns = [f'{col}' for col in df_pivoted.columns]\n",
    "\n",
    "    # Reset the index to make 'subject' a column instead of the index\n",
    "    df_pivoted.reset_index(inplace=True)\n",
    "\n",
    "    # add label as new column\n",
    "    df_pivoted[\"label\"] = [label] * df_pivoted.shape[0]\n",
    "\n",
    "    # drop subject column (subject identifier)\n",
    "    df_pivoted = df_pivoted.drop(columns=['subject'])\n",
    "\n",
    "    return df_pivoted"
   ]
  },
  {
   "cell_type": "code",
   "execution_count": 20,
   "metadata": {},
   "outputs": [
    {
     "name": "stderr",
     "output_type": "stream",
     "text": [
      "/var/folders/5p/cl5p40yx1j5ftmq1zjznrg6r0000gn/T/ipykernel_12879/255407513.py:12: PerformanceWarning: DataFrame is highly fragmented.  This is usually the result of calling `frame.insert` many times, which has poor performance.  Consider joining all columns at once using pd.concat(axis=1) instead. To get a de-fragmented frame, use `newframe = frame.copy()`\n",
      "  fft_df[df.columns[1:]] = df[df.columns[1:]].apply(pandas_fft)\n",
      "/var/folders/5p/cl5p40yx1j5ftmq1zjznrg6r0000gn/T/ipykernel_12879/255407513.py:12: PerformanceWarning: DataFrame is highly fragmented.  This is usually the result of calling `frame.insert` many times, which has poor performance.  Consider joining all columns at once using pd.concat(axis=1) instead. To get a de-fragmented frame, use `newframe = frame.copy()`\n",
      "  fft_df[df.columns[1:]] = df[df.columns[1:]].apply(pandas_fft)\n",
      "/var/folders/5p/cl5p40yx1j5ftmq1zjznrg6r0000gn/T/ipykernel_12879/255407513.py:12: PerformanceWarning: DataFrame is highly fragmented.  This is usually the result of calling `frame.insert` many times, which has poor performance.  Consider joining all columns at once using pd.concat(axis=1) instead. To get a de-fragmented frame, use `newframe = frame.copy()`\n",
      "  fft_df[df.columns[1:]] = df[df.columns[1:]].apply(pandas_fft)\n",
      "/var/folders/5p/cl5p40yx1j5ftmq1zjznrg6r0000gn/T/ipykernel_12879/255407513.py:12: PerformanceWarning: DataFrame is highly fragmented.  This is usually the result of calling `frame.insert` many times, which has poor performance.  Consider joining all columns at once using pd.concat(axis=1) instead. To get a de-fragmented frame, use `newframe = frame.copy()`\n",
      "  fft_df[df.columns[1:]] = df[df.columns[1:]].apply(pandas_fft)\n",
      "/var/folders/5p/cl5p40yx1j5ftmq1zjznrg6r0000gn/T/ipykernel_12879/255407513.py:12: PerformanceWarning: DataFrame is highly fragmented.  This is usually the result of calling `frame.insert` many times, which has poor performance.  Consider joining all columns at once using pd.concat(axis=1) instead. To get a de-fragmented frame, use `newframe = frame.copy()`\n",
      "  fft_df[df.columns[1:]] = df[df.columns[1:]].apply(pandas_fft)\n",
      "/var/folders/5p/cl5p40yx1j5ftmq1zjznrg6r0000gn/T/ipykernel_12879/255407513.py:12: PerformanceWarning: DataFrame is highly fragmented.  This is usually the result of calling `frame.insert` many times, which has poor performance.  Consider joining all columns at once using pd.concat(axis=1) instead. To get a de-fragmented frame, use `newframe = frame.copy()`\n",
      "  fft_df[df.columns[1:]] = df[df.columns[1:]].apply(pandas_fft)\n",
      "/var/folders/5p/cl5p40yx1j5ftmq1zjznrg6r0000gn/T/ipykernel_12879/255407513.py:12: PerformanceWarning: DataFrame is highly fragmented.  This is usually the result of calling `frame.insert` many times, which has poor performance.  Consider joining all columns at once using pd.concat(axis=1) instead. To get a de-fragmented frame, use `newframe = frame.copy()`\n",
      "  fft_df[df.columns[1:]] = df[df.columns[1:]].apply(pandas_fft)\n",
      "/var/folders/5p/cl5p40yx1j5ftmq1zjznrg6r0000gn/T/ipykernel_12879/255407513.py:12: PerformanceWarning: DataFrame is highly fragmented.  This is usually the result of calling `frame.insert` many times, which has poor performance.  Consider joining all columns at once using pd.concat(axis=1) instead. To get a de-fragmented frame, use `newframe = frame.copy()`\n",
      "  fft_df[df.columns[1:]] = df[df.columns[1:]].apply(pandas_fft)\n",
      "/var/folders/5p/cl5p40yx1j5ftmq1zjznrg6r0000gn/T/ipykernel_12879/255407513.py:12: PerformanceWarning: DataFrame is highly fragmented.  This is usually the result of calling `frame.insert` many times, which has poor performance.  Consider joining all columns at once using pd.concat(axis=1) instead. To get a de-fragmented frame, use `newframe = frame.copy()`\n",
      "  fft_df[df.columns[1:]] = df[df.columns[1:]].apply(pandas_fft)\n"
     ]
    }
   ],
   "source": [
    "# load in data #\n",
    "def time_to_fft(df, Fs=500):\n",
    "    freqs = np.fft.fftfreq(df.shape[0], 1/Fs)\n",
    "    fft_df = pd.DataFrame({'freq': list(filter(lambda x: x > 0, freqs))})\n",
    "\n",
    "    def pandas_fft(x):\n",
    "        temp_fft = np.fft.fft(x)\n",
    "        temp_fft = temp_fft[:len(temp_fft)//2]\n",
    "        temp_fft = np.abs(temp_fft)**2\n",
    "        return temp_fft\n",
    "\n",
    "    fft_df[df.columns[1:]] = df[df.columns[1:]].apply(pandas_fft)\n",
    "    return list(filter(lambda x: x > 0, freqs)), fft_df\n",
    "\n",
    "Fs = 500\n",
    "T300 = 300\n",
    "AD_EEG_Data = pd.read_csv(os.path.join(\"EEG_human\",\"ad_eeg_all.csv\"))\n",
    "Control_EEG_Data = pd.read_csv(os.path.join(\"EEG_human\",\"control_eeg_all.csv\"))\n",
    "\n",
    "AD_EEG_Data_300 = AD_EEG_Data[AD_EEG_Data['time'] <= T300]\n",
    "Control_EEG_Data_300 = Control_EEG_Data[Control_EEG_Data['time'] <= T300]\n",
    "\n",
    "AD_freqs_300, AD_EEG_FFT_df_300 = time_to_fft(AD_EEG_Data_300)\n",
    "Control_freqs_300, Control_EEG_FFT_df_300 = time_to_fft(Control_EEG_Data_300)"
   ]
  },
  {
   "cell_type": "code",
   "execution_count": 21,
   "metadata": {},
   "outputs": [],
   "source": [
    "# Control DF, adjust df for sklearn\n",
    "Xy_control = adjust_df(Control_EEG_FFT_df_300, label = 0)\n",
    "\n",
    "# Alzheimers DF, adjust df for sklearn\n",
    "Xy_ad = adjust_df(AD_EEG_FFT_df_300, label = 1)\n",
    "\n",
    "# combine 2 df's and separate by X and y \n",
    "Xy = pd.concat([Xy_control, Xy_ad], ignore_index=True)\n",
    "X = Xy.drop('label', axis=1)\n",
    "y = Xy['label']\n",
    "\n",
    "# train-test split of data #\n",
    "X_train, X_test, y_train, y_test = train_test_split(\n",
    "    X, y, test_size=0.33, random_state=42)"
   ]
  },
  {
   "cell_type": "code",
   "execution_count": 22,
   "metadata": {},
   "outputs": [
    {
     "data": {
      "text/html": [
       "<div>\n",
       "<style scoped>\n",
       "    .dataframe tbody tr th:only-of-type {\n",
       "        vertical-align: middle;\n",
       "    }\n",
       "\n",
       "    .dataframe tbody tr th {\n",
       "        vertical-align: top;\n",
       "    }\n",
       "\n",
       "    .dataframe thead th {\n",
       "        text-align: right;\n",
       "    }\n",
       "</style>\n",
       "<table border=\"1\" class=\"dataframe\">\n",
       "  <thead>\n",
       "    <tr style=\"text-align: right;\">\n",
       "      <th></th>\n",
       "      <th>F3@freq=0.003333311111259258</th>\n",
       "      <th>F3@freq=0.006666622222518516</th>\n",
       "      <th>F3@freq=0.009999933333777775</th>\n",
       "      <th>F3@freq=0.013333244445037033</th>\n",
       "      <th>F3@freq=0.01666655555629629</th>\n",
       "      <th>F3@freq=0.01999986666755555</th>\n",
       "      <th>F3@freq=0.023333177778814808</th>\n",
       "      <th>F3@freq=0.026666488890074065</th>\n",
       "      <th>F3@freq=0.029999800001333322</th>\n",
       "      <th>F3@freq=0.03333311111259258</th>\n",
       "      <th>...</th>\n",
       "      <th>Fp2@freq=99.97266684888767</th>\n",
       "      <th>Fp2@freq=99.97600015999893</th>\n",
       "      <th>Fp2@freq=99.9793334711102</th>\n",
       "      <th>Fp2@freq=99.98266678222144</th>\n",
       "      <th>Fp2@freq=99.9860000933327</th>\n",
       "      <th>Fp2@freq=99.98933340444397</th>\n",
       "      <th>Fp2@freq=99.99266671555523</th>\n",
       "      <th>Fp2@freq=99.99600002666648</th>\n",
       "      <th>Fp2@freq=99.99933333777774</th>\n",
       "      <th>label</th>\n",
       "    </tr>\n",
       "  </thead>\n",
       "  <tbody>\n",
       "    <tr>\n",
       "      <th>0</th>\n",
       "      <td>1.983293e+09</td>\n",
       "      <td>1.880680e+09</td>\n",
       "      <td>2.889015e+09</td>\n",
       "      <td>2.599757e+09</td>\n",
       "      <td>1.410648e+09</td>\n",
       "      <td>1.338514e+09</td>\n",
       "      <td>1.140036e+09</td>\n",
       "      <td>1.573545e+09</td>\n",
       "      <td>1.605568e+09</td>\n",
       "      <td>7.249889e+08</td>\n",
       "      <td>...</td>\n",
       "      <td>607.003276</td>\n",
       "      <td>608.848466</td>\n",
       "      <td>607.241702</td>\n",
       "      <td>606.924111</td>\n",
       "      <td>605.926289</td>\n",
       "      <td>606.711752</td>\n",
       "      <td>606.920359</td>\n",
       "      <td>606.628589</td>\n",
       "      <td>608.253593</td>\n",
       "      <td>0</td>\n",
       "    </tr>\n",
       "    <tr>\n",
       "      <th>1</th>\n",
       "      <td>4.365135e+08</td>\n",
       "      <td>6.609890e+08</td>\n",
       "      <td>1.356109e+09</td>\n",
       "      <td>1.977479e+09</td>\n",
       "      <td>2.431410e+09</td>\n",
       "      <td>2.608676e+09</td>\n",
       "      <td>2.356604e+09</td>\n",
       "      <td>1.956890e+09</td>\n",
       "      <td>9.906524e+08</td>\n",
       "      <td>8.412033e+08</td>\n",
       "      <td>...</td>\n",
       "      <td>24.512794</td>\n",
       "      <td>24.468096</td>\n",
       "      <td>24.608516</td>\n",
       "      <td>25.050203</td>\n",
       "      <td>25.253992</td>\n",
       "      <td>25.246752</td>\n",
       "      <td>24.730479</td>\n",
       "      <td>24.357220</td>\n",
       "      <td>24.013568</td>\n",
       "      <td>0</td>\n",
       "    </tr>\n",
       "    <tr>\n",
       "      <th>2</th>\n",
       "      <td>1.930322e+09</td>\n",
       "      <td>2.295668e+09</td>\n",
       "      <td>2.930230e+09</td>\n",
       "      <td>2.113042e+09</td>\n",
       "      <td>1.092444e+09</td>\n",
       "      <td>3.834521e+08</td>\n",
       "      <td>7.032531e+07</td>\n",
       "      <td>8.124505e+08</td>\n",
       "      <td>2.126665e+09</td>\n",
       "      <td>3.524241e+09</td>\n",
       "      <td>...</td>\n",
       "      <td>60726.756112</td>\n",
       "      <td>14844.752116</td>\n",
       "      <td>58511.640669</td>\n",
       "      <td>8320.319856</td>\n",
       "      <td>39355.279341</td>\n",
       "      <td>32548.403329</td>\n",
       "      <td>20672.375165</td>\n",
       "      <td>99075.281732</td>\n",
       "      <td>11940.749963</td>\n",
       "      <td>0</td>\n",
       "    </tr>\n",
       "    <tr>\n",
       "      <th>3</th>\n",
       "      <td>3.683707e+10</td>\n",
       "      <td>7.019653e+09</td>\n",
       "      <td>6.020994e+10</td>\n",
       "      <td>1.178283e+10</td>\n",
       "      <td>1.726783e+10</td>\n",
       "      <td>1.150395e+11</td>\n",
       "      <td>4.816972e+09</td>\n",
       "      <td>3.382195e+10</td>\n",
       "      <td>4.594713e+10</td>\n",
       "      <td>4.470121e+10</td>\n",
       "      <td>...</td>\n",
       "      <td>55305.208689</td>\n",
       "      <td>89140.226105</td>\n",
       "      <td>143070.847390</td>\n",
       "      <td>165614.531615</td>\n",
       "      <td>52382.126827</td>\n",
       "      <td>34648.374330</td>\n",
       "      <td>16573.150513</td>\n",
       "      <td>139771.481554</td>\n",
       "      <td>2100.081275</td>\n",
       "      <td>0</td>\n",
       "    </tr>\n",
       "    <tr>\n",
       "      <th>4</th>\n",
       "      <td>1.215083e+07</td>\n",
       "      <td>1.657793e+07</td>\n",
       "      <td>6.204555e+06</td>\n",
       "      <td>1.531639e+07</td>\n",
       "      <td>1.487432e+07</td>\n",
       "      <td>7.809774e+06</td>\n",
       "      <td>4.420698e+07</td>\n",
       "      <td>5.013753e+07</td>\n",
       "      <td>6.678227e+07</td>\n",
       "      <td>5.942986e+07</td>\n",
       "      <td>...</td>\n",
       "      <td>34.086890</td>\n",
       "      <td>33.740381</td>\n",
       "      <td>33.686998</td>\n",
       "      <td>33.653646</td>\n",
       "      <td>33.783815</td>\n",
       "      <td>33.479375</td>\n",
       "      <td>33.066304</td>\n",
       "      <td>33.656909</td>\n",
       "      <td>33.128498</td>\n",
       "      <td>0</td>\n",
       "    </tr>\n",
       "  </tbody>\n",
       "</table>\n",
       "<p>5 rows × 225001 columns</p>\n",
       "</div>"
      ],
      "text/plain": [
       "   F3@freq=0.003333311111259258  F3@freq=0.006666622222518516   \n",
       "0                  1.983293e+09                  1.880680e+09  \\\n",
       "1                  4.365135e+08                  6.609890e+08   \n",
       "2                  1.930322e+09                  2.295668e+09   \n",
       "3                  3.683707e+10                  7.019653e+09   \n",
       "4                  1.215083e+07                  1.657793e+07   \n",
       "\n",
       "   F3@freq=0.009999933333777775  F3@freq=0.013333244445037033   \n",
       "0                  2.889015e+09                  2.599757e+09  \\\n",
       "1                  1.356109e+09                  1.977479e+09   \n",
       "2                  2.930230e+09                  2.113042e+09   \n",
       "3                  6.020994e+10                  1.178283e+10   \n",
       "4                  6.204555e+06                  1.531639e+07   \n",
       "\n",
       "   F3@freq=0.01666655555629629  F3@freq=0.01999986666755555   \n",
       "0                 1.410648e+09                 1.338514e+09  \\\n",
       "1                 2.431410e+09                 2.608676e+09   \n",
       "2                 1.092444e+09                 3.834521e+08   \n",
       "3                 1.726783e+10                 1.150395e+11   \n",
       "4                 1.487432e+07                 7.809774e+06   \n",
       "\n",
       "   F3@freq=0.023333177778814808  F3@freq=0.026666488890074065   \n",
       "0                  1.140036e+09                  1.573545e+09  \\\n",
       "1                  2.356604e+09                  1.956890e+09   \n",
       "2                  7.032531e+07                  8.124505e+08   \n",
       "3                  4.816972e+09                  3.382195e+10   \n",
       "4                  4.420698e+07                  5.013753e+07   \n",
       "\n",
       "   F3@freq=0.029999800001333322  F3@freq=0.03333311111259258  ...   \n",
       "0                  1.605568e+09                 7.249889e+08  ...  \\\n",
       "1                  9.906524e+08                 8.412033e+08  ...   \n",
       "2                  2.126665e+09                 3.524241e+09  ...   \n",
       "3                  4.594713e+10                 4.470121e+10  ...   \n",
       "4                  6.678227e+07                 5.942986e+07  ...   \n",
       "\n",
       "   Fp2@freq=99.97266684888767  Fp2@freq=99.97600015999893   \n",
       "0                  607.003276                  608.848466  \\\n",
       "1                   24.512794                   24.468096   \n",
       "2                60726.756112                14844.752116   \n",
       "3                55305.208689                89140.226105   \n",
       "4                   34.086890                   33.740381   \n",
       "\n",
       "   Fp2@freq=99.9793334711102  Fp2@freq=99.98266678222144   \n",
       "0                 607.241702                  606.924111  \\\n",
       "1                  24.608516                   25.050203   \n",
       "2               58511.640669                 8320.319856   \n",
       "3              143070.847390               165614.531615   \n",
       "4                  33.686998                   33.653646   \n",
       "\n",
       "   Fp2@freq=99.9860000933327  Fp2@freq=99.98933340444397   \n",
       "0                 605.926289                  606.711752  \\\n",
       "1                  25.253992                   25.246752   \n",
       "2               39355.279341                32548.403329   \n",
       "3               52382.126827                34648.374330   \n",
       "4                  33.783815                   33.479375   \n",
       "\n",
       "   Fp2@freq=99.99266671555523  Fp2@freq=99.99600002666648   \n",
       "0                  606.920359                  606.628589  \\\n",
       "1                   24.730479                   24.357220   \n",
       "2                20672.375165                99075.281732   \n",
       "3                16573.150513               139771.481554   \n",
       "4                   33.066304                   33.656909   \n",
       "\n",
       "   Fp2@freq=99.99933333777774  label  \n",
       "0                  608.253593      0  \n",
       "1                   24.013568      0  \n",
       "2                11940.749963      0  \n",
       "3                 2100.081275      0  \n",
       "4                   33.128498      0  \n",
       "\n",
       "[5 rows x 225001 columns]"
      ]
     },
     "execution_count": 22,
     "metadata": {},
     "output_type": "execute_result"
    }
   ],
   "source": [
    "Xy.head() # df sanity check"
   ]
  },
  {
   "cell_type": "code",
   "execution_count": 23,
   "metadata": {},
   "outputs": [
    {
     "data": {
      "text/plain": [
       "(65, 225001)"
      ]
     },
     "execution_count": 23,
     "metadata": {},
     "output_type": "execute_result"
    }
   ],
   "source": [
    "Xy.shape"
   ]
  },
  {
   "cell_type": "code",
   "execution_count": 59,
   "metadata": {},
   "outputs": [],
   "source": [
    "def plot_conf_matrix(y_test, y_pred, model = 'SVM'): \n",
    "    cm = confusion_matrix(y_test, y_pred)  # Format: [[TN, FP], [FN, TP]]\n",
    "    labels = ['True Negative (TN)', 'False Positive (FP)', 'False Negative (FN)', 'True Positive (TP)']\n",
    "    cm_values = np.array([[cm[0, 0], cm[0, 1]], [cm[1, 0], cm[1, 1]]])\n",
    "\n",
    "    # Plot heatmap #\n",
    "    plt.figure(figsize=(6,5))\n",
    "    sns.heatmap(cm_values, annot=True, fmt='d', cmap='coolwarm', xticklabels=['Predicted 0', 'Predicted 1'], yticklabels=['Actual 0', 'Actual 1'])\n",
    "    plt.xlabel(\"Predicted Label\")\n",
    "    plt.ylabel(\"Actual Label\")\n",
    "    plt.title('{} Confusion Matrix Heatmap'.format(model))\n",
    "    plt.show()\n",
    "\n",
    "def scoring_metrics(pipeline, X_test, y_test, model = \"SVM\"):\n",
    "    y_pred = pipeline.predict(X_test)\n",
    "    # SCORING METRICS #\n",
    "    accuracy = pipeline.score(X_test, y_test)\n",
    "    print('[{} Performance]'.format(model))\n",
    "    print(f\"Accuracy: {accuracy * 100:.2f}%\")\n",
    "    res_metrics = precision_recall_fscore_support(y_test, y_pred, average='weighted')\n",
    "    print(\"WEIGHTED Precision, Recall, F-1 Score:\")\n",
    "    print(res_metrics)\n",
    "    plot_conf_matrix(y_test, y_pred, model = model)\n",
    "    return accuracy, res_metrics"
   ]
  },
  {
   "cell_type": "markdown",
   "metadata": {},
   "source": [
    "# SVM"
   ]
  },
  {
   "cell_type": "markdown",
   "metadata": {},
   "source": [
    "Pros of SVM: can handle both linear and non-linear data, often achieving high accuracy and robustness, especially with high-dimensional data or smaller datasets"
   ]
  },
  {
   "cell_type": "code",
   "execution_count": 60,
   "metadata": {},
   "outputs": [
    {
     "name": "stdout",
     "output_type": "stream",
     "text": [
      "[SVM Performance]\n",
      "Accuracy: 59.09%\n",
      "WEIGHTED Precision, Recall, F-1 Score:\n",
      "(0.775, 0.5909090909090909, 0.5086848635235732, None)\n"
     ]
    },
    {
     "data": {
      "image/png": "[encoded data removed]",
      "text/plain": [
       "<Figure size 600x500 with 2 Axes>"
      ]
     },
     "metadata": {},
     "output_type": "display_data"
    }
   ],
   "source": [
    "# standarization + svm\n",
    "pipeline = make_pipeline(StandardScaler(), SVC(kernel = 'rbf' , C = 1, gamma = 'scale'))\n",
    "pipeline.fit(X_train, y_train)\n",
    "# gets results\n",
    "acc, res_metrics = scoring_metrics(pipeline, X_test, y_test)"
   ]
  },
  {
   "cell_type": "markdown",
   "metadata": {},
   "source": [
    "# PCA + SVM"
   ]
  },
  {
   "cell_type": "code",
   "execution_count": 61,
   "metadata": {},
   "outputs": [
    {
     "name": "stdout",
     "output_type": "stream",
     "text": [
      "[PCA + SVM Performance]\n",
      "Accuracy: 54.55%\n",
      "WEIGHTED Precision, Recall, F-1 Score:\n",
      "(0.761904761904762, 0.5454545454545454, 0.42708333333333337, None)\n"
     ]
    },
    {
     "data": {
      "image/png": "[encoded data removed]",
      "text/plain": [
       "<Figure size 600x500 with 2 Axes>"
      ]
     },
     "metadata": {},
     "output_type": "display_data"
    }
   ],
   "source": [
    "pipeline = make_pipeline(StandardScaler(), PCA(n_components=2), SVC(kernel='linear'))\n",
    "pipeline.fit(X_train, y_train)\n",
    "\n",
    "# gets results\n",
    "acc, res_metrics = scoring_metrics(pipeline, X_test, y_test, model = 'PCA + SVM')"
   ]
  },
  {
   "cell_type": "markdown",
   "metadata": {},
   "source": [
    "TODO: Try boxing freq's into groups instead of every individual frequency (average)\n",
    "\n",
    "* may just be an issue of dataset size."
   ]
  },
  {
   "cell_type": "code",
   "execution_count": null,
   "metadata": {},
   "outputs": [],
   "source": []
  }
 ],
 "metadata": {
  "kernelspec": {
   "display_name": "Python 3",
   "language": "python",
   "name": "python3"
  },
  "language_info": {
   "codemirror_mode": {
    "name": "ipython",
    "version": 3
   },
   "file_extension": ".py",
   "mimetype": "text/x-python",
   "name": "python",
   "nbconvert_exporter": "python",
   "pygments_lexer": "ipython3",
   "version": "3.9.6"
  }
 },
 "nbformat": 4,
 "nbformat_minor": 2
}
